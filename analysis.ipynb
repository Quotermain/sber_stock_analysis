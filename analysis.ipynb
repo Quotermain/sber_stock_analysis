{
  "nbformat": 4,
  "nbformat_minor": 0,
  "metadata": {
    "accelerator": "GPU",
    "colab": {
      "name": "analysis.ipynb",
      "provenance": [],
      "collapsed_sections": [
        "_Pu8r2IV5nR0",
        "C7aiNozGusOw",
        "kOdVRGxOvONB",
        "tElqdcUVvh6l",
        "K8gS90ANFEvu",
        "cn__UL1lFEvv",
        "N5rAQ4r6FEv9",
        "Hx-0hTOTFEwM",
        "INP0GkSXhKXv",
        "NCnzeUfaWVYn",
        "H5hbKYfFNQv4",
        "AjXOhHAaFEwd"
      ],
      "include_colab_link": true
    },
    "kernelspec": {
      "display_name": "Python 3",
      "language": "python",
      "name": "python3"
    },
    "language_info": {
      "codemirror_mode": {
        "name": "ipython",
        "version": 3
      },
      "file_extension": ".py",
      "mimetype": "text/x-python",
      "name": "python",
      "nbconvert_exporter": "python",
      "pygments_lexer": "ipython3",
      "version": "3.7.6"
    },
    "widgets": {
      "application/vnd.jupyter.widget-state+json": {
        "6c03d58575114e62b2070b9616754e85": {
          "model_module": "@jupyter-widgets/controls",
          "model_name": "HBoxModel",
          "state": {
            "_view_name": "HBoxView",
            "_dom_classes": [],
            "_model_name": "HBoxModel",
            "_view_module": "@jupyter-widgets/controls",
            "_model_module_version": "1.5.0",
            "_view_count": null,
            "_view_module_version": "1.5.0",
            "box_style": "",
            "layout": "IPY_MODEL_cda4b521575042d1bc75736fc3051728",
            "_model_module": "@jupyter-widgets/controls",
            "children": [
              "IPY_MODEL_df3a9fe3cbfe4c29b12d2a8cc14f6950",
              "IPY_MODEL_79e8b365bbb740b18e1f63444802cf6b"
            ]
          }
        },
        "cda4b521575042d1bc75736fc3051728": {
          "model_module": "@jupyter-widgets/base",
          "model_name": "LayoutModel",
          "state": {
            "_view_name": "LayoutView",
            "grid_template_rows": null,
            "right": null,
            "justify_content": null,
            "_view_module": "@jupyter-widgets/base",
            "overflow": null,
            "_model_module_version": "1.2.0",
            "_view_count": null,
            "flex_flow": null,
            "width": null,
            "min_width": null,
            "border": null,
            "align_items": null,
            "bottom": null,
            "_model_module": "@jupyter-widgets/base",
            "top": null,
            "grid_column": null,
            "overflow_y": null,
            "overflow_x": null,
            "grid_auto_flow": null,
            "grid_area": null,
            "grid_template_columns": null,
            "flex": null,
            "_model_name": "LayoutModel",
            "justify_items": null,
            "grid_row": null,
            "max_height": null,
            "align_content": null,
            "visibility": null,
            "align_self": null,
            "height": null,
            "min_height": null,
            "padding": null,
            "grid_auto_rows": null,
            "grid_gap": null,
            "max_width": null,
            "order": null,
            "_view_module_version": "1.2.0",
            "grid_template_areas": null,
            "object_position": null,
            "object_fit": null,
            "grid_auto_columns": null,
            "margin": null,
            "display": null,
            "left": null
          }
        },
        "df3a9fe3cbfe4c29b12d2a8cc14f6950": {
          "model_module": "@jupyter-widgets/controls",
          "model_name": "FloatProgressModel",
          "state": {
            "_view_name": "ProgressView",
            "style": "IPY_MODEL_fbfd1bbef9c841e9bca1ef17c26d80e7",
            "_dom_classes": [],
            "description": "Downloading: 100%",
            "_model_name": "FloatProgressModel",
            "bar_style": "success",
            "max": 434,
            "_view_module": "@jupyter-widgets/controls",
            "_model_module_version": "1.5.0",
            "value": 434,
            "_view_count": null,
            "_view_module_version": "1.5.0",
            "orientation": "horizontal",
            "min": 0,
            "description_tooltip": null,
            "_model_module": "@jupyter-widgets/controls",
            "layout": "IPY_MODEL_385b44257aa144cfb3d3cc2915ecd975"
          }
        },
        "79e8b365bbb740b18e1f63444802cf6b": {
          "model_module": "@jupyter-widgets/controls",
          "model_name": "HTMLModel",
          "state": {
            "_view_name": "HTMLView",
            "style": "IPY_MODEL_3f183ad6402c46be9c0d5cfae2ffe4a5",
            "_dom_classes": [],
            "description": "",
            "_model_name": "HTMLModel",
            "placeholder": "​",
            "_view_module": "@jupyter-widgets/controls",
            "_model_module_version": "1.5.0",
            "value": " 434/434 [00:00&lt;00:00, 1.04kB/s]",
            "_view_count": null,
            "_view_module_version": "1.5.0",
            "description_tooltip": null,
            "_model_module": "@jupyter-widgets/controls",
            "layout": "IPY_MODEL_e3bfbfffea2b418392bbe97199845592"
          }
        },
        "fbfd1bbef9c841e9bca1ef17c26d80e7": {
          "model_module": "@jupyter-widgets/controls",
          "model_name": "ProgressStyleModel",
          "state": {
            "_view_name": "StyleView",
            "_model_name": "ProgressStyleModel",
            "description_width": "initial",
            "_view_module": "@jupyter-widgets/base",
            "_model_module_version": "1.5.0",
            "_view_count": null,
            "_view_module_version": "1.2.0",
            "bar_color": null,
            "_model_module": "@jupyter-widgets/controls"
          }
        },
        "385b44257aa144cfb3d3cc2915ecd975": {
          "model_module": "@jupyter-widgets/base",
          "model_name": "LayoutModel",
          "state": {
            "_view_name": "LayoutView",
            "grid_template_rows": null,
            "right": null,
            "justify_content": null,
            "_view_module": "@jupyter-widgets/base",
            "overflow": null,
            "_model_module_version": "1.2.0",
            "_view_count": null,
            "flex_flow": null,
            "width": null,
            "min_width": null,
            "border": null,
            "align_items": null,
            "bottom": null,
            "_model_module": "@jupyter-widgets/base",
            "top": null,
            "grid_column": null,
            "overflow_y": null,
            "overflow_x": null,
            "grid_auto_flow": null,
            "grid_area": null,
            "grid_template_columns": null,
            "flex": null,
            "_model_name": "LayoutModel",
            "justify_items": null,
            "grid_row": null,
            "max_height": null,
            "align_content": null,
            "visibility": null,
            "align_self": null,
            "height": null,
            "min_height": null,
            "padding": null,
            "grid_auto_rows": null,
            "grid_gap": null,
            "max_width": null,
            "order": null,
            "_view_module_version": "1.2.0",
            "grid_template_areas": null,
            "object_position": null,
            "object_fit": null,
            "grid_auto_columns": null,
            "margin": null,
            "display": null,
            "left": null
          }
        },
        "3f183ad6402c46be9c0d5cfae2ffe4a5": {
          "model_module": "@jupyter-widgets/controls",
          "model_name": "DescriptionStyleModel",
          "state": {
            "_view_name": "StyleView",
            "_model_name": "DescriptionStyleModel",
            "description_width": "",
            "_view_module": "@jupyter-widgets/base",
            "_model_module_version": "1.5.0",
            "_view_count": null,
            "_view_module_version": "1.2.0",
            "_model_module": "@jupyter-widgets/controls"
          }
        },
        "e3bfbfffea2b418392bbe97199845592": {
          "model_module": "@jupyter-widgets/base",
          "model_name": "LayoutModel",
          "state": {
            "_view_name": "LayoutView",
            "grid_template_rows": null,
            "right": null,
            "justify_content": null,
            "_view_module": "@jupyter-widgets/base",
            "overflow": null,
            "_model_module_version": "1.2.0",
            "_view_count": null,
            "flex_flow": null,
            "width": null,
            "min_width": null,
            "border": null,
            "align_items": null,
            "bottom": null,
            "_model_module": "@jupyter-widgets/base",
            "top": null,
            "grid_column": null,
            "overflow_y": null,
            "overflow_x": null,
            "grid_auto_flow": null,
            "grid_area": null,
            "grid_template_columns": null,
            "flex": null,
            "_model_name": "LayoutModel",
            "justify_items": null,
            "grid_row": null,
            "max_height": null,
            "align_content": null,
            "visibility": null,
            "align_self": null,
            "height": null,
            "min_height": null,
            "padding": null,
            "grid_auto_rows": null,
            "grid_gap": null,
            "max_width": null,
            "order": null,
            "_view_module_version": "1.2.0",
            "grid_template_areas": null,
            "object_position": null,
            "object_fit": null,
            "grid_auto_columns": null,
            "margin": null,
            "display": null,
            "left": null
          }
        },
        "94bb7d0e38a5414db3e0b8249e385752": {
          "model_module": "@jupyter-widgets/controls",
          "model_name": "HBoxModel",
          "state": {
            "_view_name": "HBoxView",
            "_dom_classes": [],
            "_model_name": "HBoxModel",
            "_view_module": "@jupyter-widgets/controls",
            "_model_module_version": "1.5.0",
            "_view_count": null,
            "_view_module_version": "1.5.0",
            "box_style": "",
            "layout": "IPY_MODEL_16b93fd3f2e640da9806e61bd6c52fd1",
            "_model_module": "@jupyter-widgets/controls",
            "children": [
              "IPY_MODEL_b1840adf0eaa464cbd1e12639d7e2758",
              "IPY_MODEL_4ebe4750a7794f429eaf63e69de41422"
            ]
          }
        },
        "16b93fd3f2e640da9806e61bd6c52fd1": {
          "model_module": "@jupyter-widgets/base",
          "model_name": "LayoutModel",
          "state": {
            "_view_name": "LayoutView",
            "grid_template_rows": null,
            "right": null,
            "justify_content": null,
            "_view_module": "@jupyter-widgets/base",
            "overflow": null,
            "_model_module_version": "1.2.0",
            "_view_count": null,
            "flex_flow": null,
            "width": null,
            "min_width": null,
            "border": null,
            "align_items": null,
            "bottom": null,
            "_model_module": "@jupyter-widgets/base",
            "top": null,
            "grid_column": null,
            "overflow_y": null,
            "overflow_x": null,
            "grid_auto_flow": null,
            "grid_area": null,
            "grid_template_columns": null,
            "flex": null,
            "_model_name": "LayoutModel",
            "justify_items": null,
            "grid_row": null,
            "max_height": null,
            "align_content": null,
            "visibility": null,
            "align_self": null,
            "height": null,
            "min_height": null,
            "padding": null,
            "grid_auto_rows": null,
            "grid_gap": null,
            "max_width": null,
            "order": null,
            "_view_module_version": "1.2.0",
            "grid_template_areas": null,
            "object_position": null,
            "object_fit": null,
            "grid_auto_columns": null,
            "margin": null,
            "display": null,
            "left": null
          }
        },
        "b1840adf0eaa464cbd1e12639d7e2758": {
          "model_module": "@jupyter-widgets/controls",
          "model_name": "FloatProgressModel",
          "state": {
            "_view_name": "ProgressView",
            "style": "IPY_MODEL_544f9acc8a9442809998e92754d51fea",
            "_dom_classes": [],
            "description": "Downloading: 100%",
            "_model_name": "FloatProgressModel",
            "bar_style": "success",
            "max": 1344997306,
            "_view_module": "@jupyter-widgets/controls",
            "_model_module_version": "1.5.0",
            "value": 1344997306,
            "_view_count": null,
            "_view_module_version": "1.5.0",
            "orientation": "horizontal",
            "min": 0,
            "description_tooltip": null,
            "_model_module": "@jupyter-widgets/controls",
            "layout": "IPY_MODEL_f137e8bdf90f4d74bba1efedcdc4468b"
          }
        },
        "4ebe4750a7794f429eaf63e69de41422": {
          "model_module": "@jupyter-widgets/controls",
          "model_name": "HTMLModel",
          "state": {
            "_view_name": "HTMLView",
            "style": "IPY_MODEL_fb80e58c280c4c1e9dc4665b22b88f08",
            "_dom_classes": [],
            "description": "",
            "_model_name": "HTMLModel",
            "placeholder": "​",
            "_view_module": "@jupyter-widgets/controls",
            "_model_module_version": "1.5.0",
            "value": " 1.34G/1.34G [00:19&lt;00:00, 68.0MB/s]",
            "_view_count": null,
            "_view_module_version": "1.5.0",
            "description_tooltip": null,
            "_model_module": "@jupyter-widgets/controls",
            "layout": "IPY_MODEL_4c614b7db1b24f839f0e0209a917d767"
          }
        },
        "544f9acc8a9442809998e92754d51fea": {
          "model_module": "@jupyter-widgets/controls",
          "model_name": "ProgressStyleModel",
          "state": {
            "_view_name": "StyleView",
            "_model_name": "ProgressStyleModel",
            "description_width": "initial",
            "_view_module": "@jupyter-widgets/base",
            "_model_module_version": "1.5.0",
            "_view_count": null,
            "_view_module_version": "1.2.0",
            "bar_color": null,
            "_model_module": "@jupyter-widgets/controls"
          }
        },
        "f137e8bdf90f4d74bba1efedcdc4468b": {
          "model_module": "@jupyter-widgets/base",
          "model_name": "LayoutModel",
          "state": {
            "_view_name": "LayoutView",
            "grid_template_rows": null,
            "right": null,
            "justify_content": null,
            "_view_module": "@jupyter-widgets/base",
            "overflow": null,
            "_model_module_version": "1.2.0",
            "_view_count": null,
            "flex_flow": null,
            "width": null,
            "min_width": null,
            "border": null,
            "align_items": null,
            "bottom": null,
            "_model_module": "@jupyter-widgets/base",
            "top": null,
            "grid_column": null,
            "overflow_y": null,
            "overflow_x": null,
            "grid_auto_flow": null,
            "grid_area": null,
            "grid_template_columns": null,
            "flex": null,
            "_model_name": "LayoutModel",
            "justify_items": null,
            "grid_row": null,
            "max_height": null,
            "align_content": null,
            "visibility": null,
            "align_self": null,
            "height": null,
            "min_height": null,
            "padding": null,
            "grid_auto_rows": null,
            "grid_gap": null,
            "max_width": null,
            "order": null,
            "_view_module_version": "1.2.0",
            "grid_template_areas": null,
            "object_position": null,
            "object_fit": null,
            "grid_auto_columns": null,
            "margin": null,
            "display": null,
            "left": null
          }
        },
        "fb80e58c280c4c1e9dc4665b22b88f08": {
          "model_module": "@jupyter-widgets/controls",
          "model_name": "DescriptionStyleModel",
          "state": {
            "_view_name": "StyleView",
            "_model_name": "DescriptionStyleModel",
            "description_width": "",
            "_view_module": "@jupyter-widgets/base",
            "_model_module_version": "1.5.0",
            "_view_count": null,
            "_view_module_version": "1.2.0",
            "_model_module": "@jupyter-widgets/controls"
          }
        },
        "4c614b7db1b24f839f0e0209a917d767": {
          "model_module": "@jupyter-widgets/base",
          "model_name": "LayoutModel",
          "state": {
            "_view_name": "LayoutView",
            "grid_template_rows": null,
            "right": null,
            "justify_content": null,
            "_view_module": "@jupyter-widgets/base",
            "overflow": null,
            "_model_module_version": "1.2.0",
            "_view_count": null,
            "flex_flow": null,
            "width": null,
            "min_width": null,
            "border": null,
            "align_items": null,
            "bottom": null,
            "_model_module": "@jupyter-widgets/base",
            "top": null,
            "grid_column": null,
            "overflow_y": null,
            "overflow_x": null,
            "grid_auto_flow": null,
            "grid_area": null,
            "grid_template_columns": null,
            "flex": null,
            "_model_name": "LayoutModel",
            "justify_items": null,
            "grid_row": null,
            "max_height": null,
            "align_content": null,
            "visibility": null,
            "align_self": null,
            "height": null,
            "min_height": null,
            "padding": null,
            "grid_auto_rows": null,
            "grid_gap": null,
            "max_width": null,
            "order": null,
            "_view_module_version": "1.2.0",
            "grid_template_areas": null,
            "object_position": null,
            "object_fit": null,
            "grid_auto_columns": null,
            "margin": null,
            "display": null,
            "left": null
          }
        },
        "ebb6803bf2214497bb8be04f828cd63d": {
          "model_module": "@jupyter-widgets/controls",
          "model_name": "HBoxModel",
          "state": {
            "_view_name": "HBoxView",
            "_dom_classes": [],
            "_model_name": "HBoxModel",
            "_view_module": "@jupyter-widgets/controls",
            "_model_module_version": "1.5.0",
            "_view_count": null,
            "_view_module_version": "1.5.0",
            "box_style": "",
            "layout": "IPY_MODEL_204d52084a8f4becb75d252f50c35d54",
            "_model_module": "@jupyter-widgets/controls",
            "children": [
              "IPY_MODEL_d3ae3aa166da431eb6ffd202e71451cf",
              "IPY_MODEL_fb4d3509af304605942dd9b76a46b3b9"
            ]
          }
        },
        "204d52084a8f4becb75d252f50c35d54": {
          "model_module": "@jupyter-widgets/base",
          "model_name": "LayoutModel",
          "state": {
            "_view_name": "LayoutView",
            "grid_template_rows": null,
            "right": null,
            "justify_content": null,
            "_view_module": "@jupyter-widgets/base",
            "overflow": null,
            "_model_module_version": "1.2.0",
            "_view_count": null,
            "flex_flow": null,
            "width": null,
            "min_width": null,
            "border": null,
            "align_items": null,
            "bottom": null,
            "_model_module": "@jupyter-widgets/base",
            "top": null,
            "grid_column": null,
            "overflow_y": null,
            "overflow_x": null,
            "grid_auto_flow": null,
            "grid_area": null,
            "grid_template_columns": null,
            "flex": null,
            "_model_name": "LayoutModel",
            "justify_items": null,
            "grid_row": null,
            "max_height": null,
            "align_content": null,
            "visibility": null,
            "align_self": null,
            "height": null,
            "min_height": null,
            "padding": null,
            "grid_auto_rows": null,
            "grid_gap": null,
            "max_width": null,
            "order": null,
            "_view_module_version": "1.2.0",
            "grid_template_areas": null,
            "object_position": null,
            "object_fit": null,
            "grid_auto_columns": null,
            "margin": null,
            "display": null,
            "left": null
          }
        },
        "d3ae3aa166da431eb6ffd202e71451cf": {
          "model_module": "@jupyter-widgets/controls",
          "model_name": "FloatProgressModel",
          "state": {
            "_view_name": "ProgressView",
            "style": "IPY_MODEL_63443c6aa75243ccb2c7c11fe62de111",
            "_dom_classes": [],
            "description": "Downloading: 100%",
            "_model_name": "FloatProgressModel",
            "bar_style": "success",
            "max": 231508,
            "_view_module": "@jupyter-widgets/controls",
            "_model_module_version": "1.5.0",
            "value": 231508,
            "_view_count": null,
            "_view_module_version": "1.5.0",
            "orientation": "horizontal",
            "min": 0,
            "description_tooltip": null,
            "_model_module": "@jupyter-widgets/controls",
            "layout": "IPY_MODEL_7962761b51c84612b811deac11338263"
          }
        },
        "fb4d3509af304605942dd9b76a46b3b9": {
          "model_module": "@jupyter-widgets/controls",
          "model_name": "HTMLModel",
          "state": {
            "_view_name": "HTMLView",
            "style": "IPY_MODEL_f4ec922ed2c54a499243dd923b58d13a",
            "_dom_classes": [],
            "description": "",
            "_model_name": "HTMLModel",
            "placeholder": "​",
            "_view_module": "@jupyter-widgets/controls",
            "_model_module_version": "1.5.0",
            "value": " 232k/232k [00:00&lt;00:00, 601kB/s]",
            "_view_count": null,
            "_view_module_version": "1.5.0",
            "description_tooltip": null,
            "_model_module": "@jupyter-widgets/controls",
            "layout": "IPY_MODEL_9a5a1b8f52bb4ca8a66964b8fe962307"
          }
        },
        "63443c6aa75243ccb2c7c11fe62de111": {
          "model_module": "@jupyter-widgets/controls",
          "model_name": "ProgressStyleModel",
          "state": {
            "_view_name": "StyleView",
            "_model_name": "ProgressStyleModel",
            "description_width": "initial",
            "_view_module": "@jupyter-widgets/base",
            "_model_module_version": "1.5.0",
            "_view_count": null,
            "_view_module_version": "1.2.0",
            "bar_color": null,
            "_model_module": "@jupyter-widgets/controls"
          }
        },
        "7962761b51c84612b811deac11338263": {
          "model_module": "@jupyter-widgets/base",
          "model_name": "LayoutModel",
          "state": {
            "_view_name": "LayoutView",
            "grid_template_rows": null,
            "right": null,
            "justify_content": null,
            "_view_module": "@jupyter-widgets/base",
            "overflow": null,
            "_model_module_version": "1.2.0",
            "_view_count": null,
            "flex_flow": null,
            "width": null,
            "min_width": null,
            "border": null,
            "align_items": null,
            "bottom": null,
            "_model_module": "@jupyter-widgets/base",
            "top": null,
            "grid_column": null,
            "overflow_y": null,
            "overflow_x": null,
            "grid_auto_flow": null,
            "grid_area": null,
            "grid_template_columns": null,
            "flex": null,
            "_model_name": "LayoutModel",
            "justify_items": null,
            "grid_row": null,
            "max_height": null,
            "align_content": null,
            "visibility": null,
            "align_self": null,
            "height": null,
            "min_height": null,
            "padding": null,
            "grid_auto_rows": null,
            "grid_gap": null,
            "max_width": null,
            "order": null,
            "_view_module_version": "1.2.0",
            "grid_template_areas": null,
            "object_position": null,
            "object_fit": null,
            "grid_auto_columns": null,
            "margin": null,
            "display": null,
            "left": null
          }
        },
        "f4ec922ed2c54a499243dd923b58d13a": {
          "model_module": "@jupyter-widgets/controls",
          "model_name": "DescriptionStyleModel",
          "state": {
            "_view_name": "StyleView",
            "_model_name": "DescriptionStyleModel",
            "description_width": "",
            "_view_module": "@jupyter-widgets/base",
            "_model_module_version": "1.5.0",
            "_view_count": null,
            "_view_module_version": "1.2.0",
            "_model_module": "@jupyter-widgets/controls"
          }
        },
        "9a5a1b8f52bb4ca8a66964b8fe962307": {
          "model_module": "@jupyter-widgets/base",
          "model_name": "LayoutModel",
          "state": {
            "_view_name": "LayoutView",
            "grid_template_rows": null,
            "right": null,
            "justify_content": null,
            "_view_module": "@jupyter-widgets/base",
            "overflow": null,
            "_model_module_version": "1.2.0",
            "_view_count": null,
            "flex_flow": null,
            "width": null,
            "min_width": null,
            "border": null,
            "align_items": null,
            "bottom": null,
            "_model_module": "@jupyter-widgets/base",
            "top": null,
            "grid_column": null,
            "overflow_y": null,
            "overflow_x": null,
            "grid_auto_flow": null,
            "grid_area": null,
            "grid_template_columns": null,
            "flex": null,
            "_model_name": "LayoutModel",
            "justify_items": null,
            "grid_row": null,
            "max_height": null,
            "align_content": null,
            "visibility": null,
            "align_self": null,
            "height": null,
            "min_height": null,
            "padding": null,
            "grid_auto_rows": null,
            "grid_gap": null,
            "max_width": null,
            "order": null,
            "_view_module_version": "1.2.0",
            "grid_template_areas": null,
            "object_position": null,
            "object_fit": null,
            "grid_auto_columns": null,
            "margin": null,
            "display": null,
            "left": null
          }
        },
        "2c75cee46e5d4ee8b4629a1918b7f36a": {
          "model_module": "@jupyter-widgets/controls",
          "model_name": "HBoxModel",
          "state": {
            "_view_name": "HBoxView",
            "_dom_classes": [],
            "_model_name": "HBoxModel",
            "_view_module": "@jupyter-widgets/controls",
            "_model_module_version": "1.5.0",
            "_view_count": null,
            "_view_module_version": "1.5.0",
            "box_style": "",
            "layout": "IPY_MODEL_03e1d0a88b2447ccbbfb7d29b1a90be0",
            "_model_module": "@jupyter-widgets/controls",
            "children": [
              "IPY_MODEL_ea06ee607f8d47068dc969216b63c9c6",
              "IPY_MODEL_dac65a7c90eb4ee586138e0b1373e0ce"
            ]
          }
        },
        "03e1d0a88b2447ccbbfb7d29b1a90be0": {
          "model_module": "@jupyter-widgets/base",
          "model_name": "LayoutModel",
          "state": {
            "_view_name": "LayoutView",
            "grid_template_rows": null,
            "right": null,
            "justify_content": null,
            "_view_module": "@jupyter-widgets/base",
            "overflow": null,
            "_model_module_version": "1.2.0",
            "_view_count": null,
            "flex_flow": null,
            "width": null,
            "min_width": null,
            "border": null,
            "align_items": null,
            "bottom": null,
            "_model_module": "@jupyter-widgets/base",
            "top": null,
            "grid_column": null,
            "overflow_y": null,
            "overflow_x": null,
            "grid_auto_flow": null,
            "grid_area": null,
            "grid_template_columns": null,
            "flex": null,
            "_model_name": "LayoutModel",
            "justify_items": null,
            "grid_row": null,
            "max_height": null,
            "align_content": null,
            "visibility": null,
            "align_self": null,
            "height": null,
            "min_height": null,
            "padding": null,
            "grid_auto_rows": null,
            "grid_gap": null,
            "max_width": null,
            "order": null,
            "_view_module_version": "1.2.0",
            "grid_template_areas": null,
            "object_position": null,
            "object_fit": null,
            "grid_auto_columns": null,
            "margin": null,
            "display": null,
            "left": null
          }
        },
        "ea06ee607f8d47068dc969216b63c9c6": {
          "model_module": "@jupyter-widgets/controls",
          "model_name": "FloatProgressModel",
          "state": {
            "_view_name": "ProgressView",
            "style": "IPY_MODEL_3a230688f0d7409793c2c921d1c0f56a",
            "_dom_classes": [],
            "description": "  0%",
            "_model_name": "FloatProgressModel",
            "bar_style": "",
            "max": 100,
            "_view_module": "@jupyter-widgets/controls",
            "_model_module_version": "1.5.0",
            "value": 0,
            "_view_count": null,
            "_view_module_version": "1.5.0",
            "orientation": "horizontal",
            "min": 0,
            "description_tooltip": null,
            "_model_module": "@jupyter-widgets/controls",
            "layout": "IPY_MODEL_8c0668f1935e40cb816f7d704465c013"
          }
        },
        "dac65a7c90eb4ee586138e0b1373e0ce": {
          "model_module": "@jupyter-widgets/controls",
          "model_name": "HTMLModel",
          "state": {
            "_view_name": "HTMLView",
            "style": "IPY_MODEL_c9dd2149216247968536b208e8d24122",
            "_dom_classes": [],
            "description": "",
            "_model_name": "HTMLModel",
            "placeholder": "​",
            "_view_module": "@jupyter-widgets/controls",
            "_model_module_version": "1.5.0",
            "value": " 0/100 [00:00&lt;?, ?it/s]",
            "_view_count": null,
            "_view_module_version": "1.5.0",
            "description_tooltip": null,
            "_model_module": "@jupyter-widgets/controls",
            "layout": "IPY_MODEL_7894fca75a474495856db2b973533633"
          }
        },
        "3a230688f0d7409793c2c921d1c0f56a": {
          "model_module": "@jupyter-widgets/controls",
          "model_name": "ProgressStyleModel",
          "state": {
            "_view_name": "StyleView",
            "_model_name": "ProgressStyleModel",
            "description_width": "initial",
            "_view_module": "@jupyter-widgets/base",
            "_model_module_version": "1.5.0",
            "_view_count": null,
            "_view_module_version": "1.2.0",
            "bar_color": null,
            "_model_module": "@jupyter-widgets/controls"
          }
        },
        "8c0668f1935e40cb816f7d704465c013": {
          "model_module": "@jupyter-widgets/base",
          "model_name": "LayoutModel",
          "state": {
            "_view_name": "LayoutView",
            "grid_template_rows": null,
            "right": null,
            "justify_content": null,
            "_view_module": "@jupyter-widgets/base",
            "overflow": null,
            "_model_module_version": "1.2.0",
            "_view_count": null,
            "flex_flow": null,
            "width": null,
            "min_width": null,
            "border": null,
            "align_items": null,
            "bottom": null,
            "_model_module": "@jupyter-widgets/base",
            "top": null,
            "grid_column": null,
            "overflow_y": null,
            "overflow_x": null,
            "grid_auto_flow": null,
            "grid_area": null,
            "grid_template_columns": null,
            "flex": null,
            "_model_name": "LayoutModel",
            "justify_items": null,
            "grid_row": null,
            "max_height": null,
            "align_content": null,
            "visibility": null,
            "align_self": null,
            "height": null,
            "min_height": null,
            "padding": null,
            "grid_auto_rows": null,
            "grid_gap": null,
            "max_width": null,
            "order": null,
            "_view_module_version": "1.2.0",
            "grid_template_areas": null,
            "object_position": null,
            "object_fit": null,
            "grid_auto_columns": null,
            "margin": null,
            "display": null,
            "left": null
          }
        },
        "c9dd2149216247968536b208e8d24122": {
          "model_module": "@jupyter-widgets/controls",
          "model_name": "DescriptionStyleModel",
          "state": {
            "_view_name": "StyleView",
            "_model_name": "DescriptionStyleModel",
            "description_width": "",
            "_view_module": "@jupyter-widgets/base",
            "_model_module_version": "1.5.0",
            "_view_count": null,
            "_view_module_version": "1.2.0",
            "_model_module": "@jupyter-widgets/controls"
          }
        },
        "7894fca75a474495856db2b973533633": {
          "model_module": "@jupyter-widgets/base",
          "model_name": "LayoutModel",
          "state": {
            "_view_name": "LayoutView",
            "grid_template_rows": null,
            "right": null,
            "justify_content": null,
            "_view_module": "@jupyter-widgets/base",
            "overflow": null,
            "_model_module_version": "1.2.0",
            "_view_count": null,
            "flex_flow": null,
            "width": null,
            "min_width": null,
            "border": null,
            "align_items": null,
            "bottom": null,
            "_model_module": "@jupyter-widgets/base",
            "top": null,
            "grid_column": null,
            "overflow_y": null,
            "overflow_x": null,
            "grid_auto_flow": null,
            "grid_area": null,
            "grid_template_columns": null,
            "flex": null,
            "_model_name": "LayoutModel",
            "justify_items": null,
            "grid_row": null,
            "max_height": null,
            "align_content": null,
            "visibility": null,
            "align_self": null,
            "height": null,
            "min_height": null,
            "padding": null,
            "grid_auto_rows": null,
            "grid_gap": null,
            "max_width": null,
            "order": null,
            "_view_module_version": "1.2.0",
            "grid_template_areas": null,
            "object_position": null,
            "object_fit": null,
            "grid_auto_columns": null,
            "margin": null,
            "display": null,
            "left": null
          }
        },
        "b492d49f9ca543f49467ca5560fd1726": {
          "model_module": "@jupyter-widgets/controls",
          "model_name": "HBoxModel",
          "state": {
            "_view_name": "HBoxView",
            "_dom_classes": [],
            "_model_name": "HBoxModel",
            "_view_module": "@jupyter-widgets/controls",
            "_model_module_version": "1.5.0",
            "_view_count": null,
            "_view_module_version": "1.5.0",
            "box_style": "",
            "layout": "IPY_MODEL_2266906944df483188e64dafd73255fb",
            "_model_module": "@jupyter-widgets/controls",
            "children": [
              "IPY_MODEL_297e7c0361e54ff58487042ba5bfea8a",
              "IPY_MODEL_a2354e6d10eb44298680f654ed7c7d25"
            ]
          }
        },
        "2266906944df483188e64dafd73255fb": {
          "model_module": "@jupyter-widgets/base",
          "model_name": "LayoutModel",
          "state": {
            "_view_name": "LayoutView",
            "grid_template_rows": null,
            "right": null,
            "justify_content": null,
            "_view_module": "@jupyter-widgets/base",
            "overflow": null,
            "_model_module_version": "1.2.0",
            "_view_count": null,
            "flex_flow": null,
            "width": null,
            "min_width": null,
            "border": null,
            "align_items": null,
            "bottom": null,
            "_model_module": "@jupyter-widgets/base",
            "top": null,
            "grid_column": null,
            "overflow_y": null,
            "overflow_x": null,
            "grid_auto_flow": null,
            "grid_area": null,
            "grid_template_columns": null,
            "flex": null,
            "_model_name": "LayoutModel",
            "justify_items": null,
            "grid_row": null,
            "max_height": null,
            "align_content": null,
            "visibility": null,
            "align_self": null,
            "height": null,
            "min_height": null,
            "padding": null,
            "grid_auto_rows": null,
            "grid_gap": null,
            "max_width": null,
            "order": null,
            "_view_module_version": "1.2.0",
            "grid_template_areas": null,
            "object_position": null,
            "object_fit": null,
            "grid_auto_columns": null,
            "margin": null,
            "display": null,
            "left": null
          }
        },
        "297e7c0361e54ff58487042ba5bfea8a": {
          "model_module": "@jupyter-widgets/controls",
          "model_name": "FloatProgressModel",
          "state": {
            "_view_name": "ProgressView",
            "style": "IPY_MODEL_10f44c0ffbba4a3e928475f7cee8df83",
            "_dom_classes": [],
            "description": "Epoch 1:  12%",
            "_model_name": "FloatProgressModel",
            "bar_style": "",
            "max": 11705,
            "_view_module": "@jupyter-widgets/controls",
            "_model_module_version": "1.5.0",
            "value": 1384,
            "_view_count": null,
            "_view_module_version": "1.5.0",
            "orientation": "horizontal",
            "min": 0,
            "description_tooltip": null,
            "_model_module": "@jupyter-widgets/controls",
            "layout": "IPY_MODEL_c22854403a0a4ea78b2dca0580c800de"
          }
        },
        "a2354e6d10eb44298680f654ed7c7d25": {
          "model_module": "@jupyter-widgets/controls",
          "model_name": "HTMLModel",
          "state": {
            "_view_name": "HTMLView",
            "style": "IPY_MODEL_6f8708aa942b44d88ee98c3ddf5db642",
            "_dom_classes": [],
            "description": "",
            "_model_name": "HTMLModel",
            "placeholder": "​",
            "_view_module": "@jupyter-widgets/controls",
            "_model_module_version": "1.5.0",
            "value": " 1384/11705 [03:46&lt;28:30,  6.03it/s, training_loss=0.273]",
            "_view_count": null,
            "_view_module_version": "1.5.0",
            "description_tooltip": null,
            "_model_module": "@jupyter-widgets/controls",
            "layout": "IPY_MODEL_a3cf22cd329b498eb4ca0de1b5b2f1f2"
          }
        },
        "10f44c0ffbba4a3e928475f7cee8df83": {
          "model_module": "@jupyter-widgets/controls",
          "model_name": "ProgressStyleModel",
          "state": {
            "_view_name": "StyleView",
            "_model_name": "ProgressStyleModel",
            "description_width": "initial",
            "_view_module": "@jupyter-widgets/base",
            "_model_module_version": "1.5.0",
            "_view_count": null,
            "_view_module_version": "1.2.0",
            "bar_color": null,
            "_model_module": "@jupyter-widgets/controls"
          }
        },
        "c22854403a0a4ea78b2dca0580c800de": {
          "model_module": "@jupyter-widgets/base",
          "model_name": "LayoutModel",
          "state": {
            "_view_name": "LayoutView",
            "grid_template_rows": null,
            "right": null,
            "justify_content": null,
            "_view_module": "@jupyter-widgets/base",
            "overflow": null,
            "_model_module_version": "1.2.0",
            "_view_count": null,
            "flex_flow": null,
            "width": null,
            "min_width": null,
            "border": null,
            "align_items": null,
            "bottom": null,
            "_model_module": "@jupyter-widgets/base",
            "top": null,
            "grid_column": null,
            "overflow_y": null,
            "overflow_x": null,
            "grid_auto_flow": null,
            "grid_area": null,
            "grid_template_columns": null,
            "flex": null,
            "_model_name": "LayoutModel",
            "justify_items": null,
            "grid_row": null,
            "max_height": null,
            "align_content": null,
            "visibility": null,
            "align_self": null,
            "height": null,
            "min_height": null,
            "padding": null,
            "grid_auto_rows": null,
            "grid_gap": null,
            "max_width": null,
            "order": null,
            "_view_module_version": "1.2.0",
            "grid_template_areas": null,
            "object_position": null,
            "object_fit": null,
            "grid_auto_columns": null,
            "margin": null,
            "display": null,
            "left": null
          }
        },
        "6f8708aa942b44d88ee98c3ddf5db642": {
          "model_module": "@jupyter-widgets/controls",
          "model_name": "DescriptionStyleModel",
          "state": {
            "_view_name": "StyleView",
            "_model_name": "DescriptionStyleModel",
            "description_width": "",
            "_view_module": "@jupyter-widgets/base",
            "_model_module_version": "1.5.0",
            "_view_count": null,
            "_view_module_version": "1.2.0",
            "_model_module": "@jupyter-widgets/controls"
          }
        },
        "a3cf22cd329b498eb4ca0de1b5b2f1f2": {
          "model_module": "@jupyter-widgets/base",
          "model_name": "LayoutModel",
          "state": {
            "_view_name": "LayoutView",
            "grid_template_rows": null,
            "right": null,
            "justify_content": null,
            "_view_module": "@jupyter-widgets/base",
            "overflow": null,
            "_model_module_version": "1.2.0",
            "_view_count": null,
            "flex_flow": null,
            "width": null,
            "min_width": null,
            "border": null,
            "align_items": null,
            "bottom": null,
            "_model_module": "@jupyter-widgets/base",
            "top": null,
            "grid_column": null,
            "overflow_y": null,
            "overflow_x": null,
            "grid_auto_flow": null,
            "grid_area": null,
            "grid_template_columns": null,
            "flex": null,
            "_model_name": "LayoutModel",
            "justify_items": null,
            "grid_row": null,
            "max_height": null,
            "align_content": null,
            "visibility": null,
            "align_self": null,
            "height": null,
            "min_height": null,
            "padding": null,
            "grid_auto_rows": null,
            "grid_gap": null,
            "max_width": null,
            "order": null,
            "_view_module_version": "1.2.0",
            "grid_template_areas": null,
            "object_position": null,
            "object_fit": null,
            "grid_auto_columns": null,
            "margin": null,
            "display": null,
            "left": null
          }
        }
      }
    }
  },
  "cells": [
    {
      "cell_type": "markdown",
      "metadata": {
        "id": "view-in-github",
        "colab_type": "text"
      },
      "source": [
        "<a href=\"https://colab.research.google.com/github/Quotermain/sber_stock_analysis/blob/summarized/analysis.ipynb\" target=\"_parent\"><img src=\"https://colab.research.google.com/assets/colab-badge.svg\" alt=\"Open In Colab\"/></a>"
      ]
    },
    {
      "cell_type": "code",
      "metadata": {
        "id": "FkSmv_PQFKwT"
      },
      "source": [
        "!pip install transformers\n",
        "\n",
        "from google.colab import drive\n",
        "drive.mount('/content/drive')"
      ],
      "execution_count": null,
      "outputs": []
    },
    {
      "cell_type": "code",
      "metadata": {
        "id": "9swSWPTFWVYl"
      },
      "source": [
        "from transformers import BertTokenizer\n",
        "from transformers import BertForSequenceClassification\n",
        "from transformers import AdamW, get_linear_schedule_with_warmup"
      ],
      "execution_count": 2,
      "outputs": []
    },
    {
      "cell_type": "code",
      "metadata": {
        "id": "X39fyaaNFEu5"
      },
      "source": [
        "import datetime\n",
        "\n",
        "import pickle\n",
        "  \n",
        "import re\n",
        "\n",
        "import pandas as pd\n",
        "import numpy as np\n",
        "\n",
        "from sklearn.model_selection import train_test_split\n",
        "from sklearn.metrics import f1_score\n",
        "\n",
        "import torch\n",
        "from torch.utils.data import TensorDataset\n",
        "from torch.utils.data import DataLoader, RandomSampler, SequentialSampler\n",
        "\n",
        "from tqdm.notebook import tqdm\n",
        "\n",
        "import matplotlib.pyplot as plt\n",
        "plt.rcParams[\"figure.figsize\"] = (20,10)\n",
        "\n",
        "import random\n",
        "\n",
        "seed_val = 17\n",
        "random.seed(seed_val)\n",
        "np.random.seed(seed_val)\n",
        "torch.manual_seed(seed_val)\n",
        "torch.cuda.manual_seed_all(seed_val)\n"
      ],
      "execution_count": 3,
      "outputs": []
    },
    {
      "cell_type": "code",
      "metadata": {
        "id": "25zwsdGxaxtx"
      },
      "source": [
        "def evaluate(dataloader_val):\n",
        "\n",
        "    model.eval()\n",
        "    \n",
        "    loss_val_total = 0\n",
        "    \n",
        "    predictions, true_vals = [], []\n",
        "    \n",
        "    for batch in dataloader_val:\n",
        "        \n",
        "        batch = tuple(b.to(device) for b in batch)\n",
        "        \n",
        "        inputs = {'input_ids':      batch[0],\n",
        "                  'attention_mask': batch[1],\n",
        "                  'labels':         batch[2],\n",
        "                 }\n",
        "\n",
        "        with torch.no_grad():        \n",
        "            outputs = model(**inputs)\n",
        "            \n",
        "        loss = outputs[0]\n",
        "        logits = outputs[1]\n",
        "        loss_val_total += loss.item()\n",
        "\n",
        "        logits = logits.detach().cpu().numpy()\n",
        "        label_ids = inputs['labels'].cpu().numpy()\n",
        "        predictions.append(logits)\n",
        "        true_vals.append(label_ids)\n",
        "    \n",
        "    loss_val_avg = loss_val_total/len(dataloader_val) \n",
        "    \n",
        "    predictions = np.concatenate(predictions, axis=0)\n",
        "    true_vals = np.concatenate(true_vals, axis=0)\n",
        "            \n",
        "    return loss_val_avg, predictions, true_vals\n",
        "    \n",
        "def f1_score_func(preds, labels):\n",
        "    preds_flat = np.argmax(preds, axis=1).flatten()\n",
        "    labels_flat = labels.flatten()\n",
        "    return f1_score(labels_flat, preds_flat, average='weighted')\n",
        "\n",
        "def accuracy_per_class(preds, labels):\n",
        "\n",
        "    label_dict_inverse = {v: k for k, v in label_dict.items()}\n",
        "    \n",
        "    preds_flat = np.argmax(preds, axis=1).flatten()\n",
        "    labels_flat = labels.flatten()\n",
        "\n",
        "    for label in np.unique(labels_flat):\n",
        "        '''Берём только те значения из предсказаний и истинных лейблов, \n",
        "        которые равны классу текущей итерации (фильтруем)'''\n",
        "        y_preds = preds_flat[labels_flat==label] # Тут и ошибочные предсказания\n",
        "        y_true = labels_flat[labels_flat==label] # Тут будут только истинные\n",
        "        \n",
        "        print(f'Class: {label_dict_inverse[label]}')\n",
        "        print(f'Accuracy: {len(y_preds[y_preds==label])}/{len(y_true)}\\n')"
      ],
      "execution_count": 4,
      "outputs": []
    },
    {
      "cell_type": "code",
      "metadata": {
        "id": "_iirC5QEH3hR",
        "colab": {
          "base_uri": "https://localhost:8080/",
          "height": 203
        },
        "outputId": "2746f9c0-b218-4962-c22d-461412dfa84d"
      },
      "source": [
        "\"\"\"\n",
        "Сбрасываю временные индексы на обычную нумерацию, т.к. теперь это просто задача\n",
        "классификации. Также сбрасываю ненужные колонки.\n",
        "\"\"\"\n",
        "\n",
        "merged = pd.read_csv(\n",
        "    'drive/MyDrive/data/summarized_texts.csv',\n",
        "    index_col=0\n",
        ")\n",
        "\n",
        "merged.head(5)"
      ],
      "execution_count": 7,
      "outputs": [
        {
          "output_type": "execute_result",
          "data": {
            "text/html": [
              "<div>\n",
              "<style scoped>\n",
              "    .dataframe tbody tr th:only-of-type {\n",
              "        vertical-align: middle;\n",
              "    }\n",
              "\n",
              "    .dataframe tbody tr th {\n",
              "        vertical-align: top;\n",
              "    }\n",
              "\n",
              "    .dataframe thead th {\n",
              "        text-align: right;\n",
              "    }\n",
              "</style>\n",
              "<table border=\"1\" class=\"dataframe\">\n",
              "  <thead>\n",
              "    <tr style=\"text-align: right;\">\n",
              "      <th></th>\n",
              "      <th>target</th>\n",
              "      <th>text</th>\n",
              "    </tr>\n",
              "  </thead>\n",
              "  <tbody>\n",
              "    <tr>\n",
              "      <th>0</th>\n",
              "      <td>1</td>\n",
              "      <td>Оптимистичные данные по занятости в США поднял...</td>\n",
              "    </tr>\n",
              "    <tr>\n",
              "      <th>1</th>\n",
              "      <td>1</td>\n",
              "      <td>Во вторник азиатские фондовые биржи разделилис...</td>\n",
              "    </tr>\n",
              "    <tr>\n",
              "      <th>2</th>\n",
              "      <td>0</td>\n",
              "      <td>В среду азиатские фондовые биржи упали из-за с...</td>\n",
              "    </tr>\n",
              "    <tr>\n",
              "      <th>3</th>\n",
              "      <td>0</td>\n",
              "      <td>Азиатские фондовые рынки растут на фоне оптими...</td>\n",
              "    </tr>\n",
              "    <tr>\n",
              "      <th>4</th>\n",
              "      <td>1</td>\n",
              "      <td>В среду азиатские фондовые биржи разделились п...</td>\n",
              "    </tr>\n",
              "  </tbody>\n",
              "</table>\n",
              "</div>"
            ],
            "text/plain": [
              "   target                                               text\n",
              "0       1  Оптимистичные данные по занятости в США поднял...\n",
              "1       1  Во вторник азиатские фондовые биржи разделилис...\n",
              "2       0  В среду азиатские фондовые биржи упали из-за с...\n",
              "3       0  Азиатские фондовые рынки растут на фоне оптими...\n",
              "4       1  В среду азиатские фондовые биржи разделились п..."
            ]
          },
          "metadata": {
            "tags": []
          },
          "execution_count": 7
        }
      ]
    },
    {
      "cell_type": "code",
      "metadata": {
        "colab": {
          "base_uri": "https://localhost:8080/"
        },
        "id": "1Ey--U7BFcM8",
        "outputId": "b7fc5ef3-00af-4b1a-ebe8-222ff9fd5d45"
      },
      "source": [
        "\"\"\"Encodes labels to nums to put those in a model\"\"\"\n",
        "label_dict = {'up': 0, 'down': 1, 'nothing': 2}\n",
        "label_dict"
      ],
      "execution_count": 8,
      "outputs": [
        {
          "output_type": "execute_result",
          "data": {
            "text/plain": [
              "{'down': 1, 'nothing': 2, 'up': 0}"
            ]
          },
          "metadata": {
            "tags": []
          },
          "execution_count": 8
        }
      ]
    },
    {
      "cell_type": "markdown",
      "metadata": {
        "id": "_Pu8r2IV5nR0"
      },
      "source": [
        "# Loading prices"
      ]
    },
    {
      "cell_type": "code",
      "metadata": {
        "colab": {
          "base_uri": "https://localhost:8080/",
          "height": 110
        },
        "id": "K6PVXTxnFEvA",
        "outputId": "8bd26eab-7116-4eca-d5e3-06b44d3980f8"
      },
      "source": [
        "data = pd.read_csv(\n",
        "    'drive/MyDrive/data/SBER.txt', \n",
        "    usecols=['<DATE>', '<TIME>', '<CLOSE>'],\n",
        "    parse_dates=[['<DATE>', '<TIME>']],\n",
        "    dayfirst=True\n",
        ")\n",
        "data.columns = ['datetime', 'close']\n",
        "data.set_index('datetime', inplace=True)\n",
        "\n",
        "data.head(1)"
      ],
      "execution_count": null,
      "outputs": [
        {
          "output_type": "execute_result",
          "data": {
            "text/html": [
              "<div>\n",
              "<style scoped>\n",
              "    .dataframe tbody tr th:only-of-type {\n",
              "        vertical-align: middle;\n",
              "    }\n",
              "\n",
              "    .dataframe tbody tr th {\n",
              "        vertical-align: top;\n",
              "    }\n",
              "\n",
              "    .dataframe thead th {\n",
              "        text-align: right;\n",
              "    }\n",
              "</style>\n",
              "<table border=\"1\" class=\"dataframe\">\n",
              "  <thead>\n",
              "    <tr style=\"text-align: right;\">\n",
              "      <th></th>\n",
              "      <th>close</th>\n",
              "    </tr>\n",
              "    <tr>\n",
              "      <th>datetime</th>\n",
              "      <th></th>\n",
              "    </tr>\n",
              "  </thead>\n",
              "  <tbody>\n",
              "    <tr>\n",
              "      <th>2009-01-11 10:30:00</th>\n",
              "      <td>23.01</td>\n",
              "    </tr>\n",
              "  </tbody>\n",
              "</table>\n",
              "</div>"
            ],
            "text/plain": [
              "                     close\n",
              "datetime                  \n",
              "2009-01-11 10:30:00  23.01"
            ]
          },
          "metadata": {
            "tags": []
          },
          "execution_count": 2
        }
      ]
    },
    {
      "cell_type": "markdown",
      "metadata": {
        "id": "DEhveM4XuISS"
      },
      "source": [
        "###### Plots raw prices against time (per minute)"
      ]
    },
    {
      "cell_type": "code",
      "metadata": {
        "id": "uPikwlaqFEvF"
      },
      "source": [
        "plt.plot(data.close[-200:])\n",
        "plt.title('Closing price of SBERBANK')\n",
        "plt.ylabel('Closing price')\n",
        "plt.xlabel('Date_time')\n",
        "plt.grid(False)\n",
        "plt.show()"
      ],
      "execution_count": null,
      "outputs": []
    },
    {
      "cell_type": "markdown",
      "metadata": {
        "id": "C7aiNozGusOw"
      },
      "source": [
        "###### Creates target: returns after 1 hour"
      ]
    },
    {
      "cell_type": "code",
      "metadata": {
        "colab": {
          "base_uri": "https://localhost:8080/",
          "height": 264
        },
        "id": "DZRr1LbDFEvK",
        "outputId": "09f2768b-9236-490a-f6b0-578c93b634c7"
      },
      "source": [
        "data['returns_per_hour'] = data.close.pct_change(periods=60).shift(-60)\n",
        "data.head(6)"
      ],
      "execution_count": null,
      "outputs": [
        {
          "output_type": "execute_result",
          "data": {
            "text/html": [
              "<div>\n",
              "<style scoped>\n",
              "    .dataframe tbody tr th:only-of-type {\n",
              "        vertical-align: middle;\n",
              "    }\n",
              "\n",
              "    .dataframe tbody tr th {\n",
              "        vertical-align: top;\n",
              "    }\n",
              "\n",
              "    .dataframe thead th {\n",
              "        text-align: right;\n",
              "    }\n",
              "</style>\n",
              "<table border=\"1\" class=\"dataframe\">\n",
              "  <thead>\n",
              "    <tr style=\"text-align: right;\">\n",
              "      <th></th>\n",
              "      <th>close</th>\n",
              "      <th>returns_per_hour</th>\n",
              "    </tr>\n",
              "    <tr>\n",
              "      <th>datetime</th>\n",
              "      <th></th>\n",
              "      <th></th>\n",
              "    </tr>\n",
              "  </thead>\n",
              "  <tbody>\n",
              "    <tr>\n",
              "      <th>2009-01-11 10:30:00</th>\n",
              "      <td>23.01</td>\n",
              "      <td>0.005215</td>\n",
              "    </tr>\n",
              "    <tr>\n",
              "      <th>2009-01-11 10:31:00</th>\n",
              "      <td>23.02</td>\n",
              "      <td>0.005647</td>\n",
              "    </tr>\n",
              "    <tr>\n",
              "      <th>2009-01-11 10:32:00</th>\n",
              "      <td>23.20</td>\n",
              "      <td>-0.002155</td>\n",
              "    </tr>\n",
              "    <tr>\n",
              "      <th>2009-01-11 10:33:00</th>\n",
              "      <td>23.22</td>\n",
              "      <td>-0.003876</td>\n",
              "    </tr>\n",
              "    <tr>\n",
              "      <th>2009-01-11 10:34:00</th>\n",
              "      <td>23.24</td>\n",
              "      <td>-0.003873</td>\n",
              "    </tr>\n",
              "    <tr>\n",
              "      <th>2009-01-11 10:35:00</th>\n",
              "      <td>23.14</td>\n",
              "      <td>0.000432</td>\n",
              "    </tr>\n",
              "  </tbody>\n",
              "</table>\n",
              "</div>"
            ],
            "text/plain": [
              "                     close  returns_per_hour\n",
              "datetime                                    \n",
              "2009-01-11 10:30:00  23.01          0.005215\n",
              "2009-01-11 10:31:00  23.02          0.005647\n",
              "2009-01-11 10:32:00  23.20         -0.002155\n",
              "2009-01-11 10:33:00  23.22         -0.003876\n",
              "2009-01-11 10:34:00  23.24         -0.003873\n",
              "2009-01-11 10:35:00  23.14          0.000432"
            ]
          },
          "metadata": {
            "tags": []
          },
          "execution_count": 3
        }
      ]
    },
    {
      "cell_type": "markdown",
      "metadata": {
        "id": "kOdVRGxOvONB"
      },
      "source": [
        "###### Plots histrogram of returns after 1 hour and plots them against time"
      ]
    },
    {
      "cell_type": "code",
      "metadata": {
        "id": "G-5tNHsLFEvQ"
      },
      "source": [
        "data.returns_per_hour.hist(bins=400)"
      ],
      "execution_count": null,
      "outputs": []
    },
    {
      "cell_type": "code",
      "metadata": {
        "id": "i6fT4fVZFEvW"
      },
      "source": [
        "data.returns_per_hour.plot()"
      ],
      "execution_count": null,
      "outputs": []
    },
    {
      "cell_type": "markdown",
      "metadata": {
        "id": "tElqdcUVvh6l"
      },
      "source": [
        "###### Explores returns"
      ]
    },
    {
      "cell_type": "code",
      "metadata": {
        "colab": {
          "base_uri": "https://localhost:8080/"
        },
        "id": "MROXux6gFEvb",
        "outputId": "35f5cfc5-2af0-47f6-97bb-80c1d93b98fe"
      },
      "source": [
        "mean_returns = data.returns_per_hour.mean()\n",
        "mean_returns"
      ],
      "execution_count": null,
      "outputs": [
        {
          "output_type": "execute_result",
          "data": {
            "text/plain": [
              "0.00011119852638197501"
            ]
          },
          "metadata": {
            "tags": []
          },
          "execution_count": 6
        }
      ]
    },
    {
      "cell_type": "code",
      "metadata": {
        "colab": {
          "base_uri": "https://localhost:8080/"
        },
        "id": "ekD5J9m0FEvf",
        "outputId": "25a61f30-5c47-404d-b75f-80919e24cb4d"
      },
      "source": [
        "std_returns = data.returns_per_hour.std()\n",
        "std_returns"
      ],
      "execution_count": null,
      "outputs": [
        {
          "output_type": "execute_result",
          "data": {
            "text/plain": [
              "0.007516514598578941"
            ]
          },
          "metadata": {
            "tags": []
          },
          "execution_count": 7
        }
      ]
    },
    {
      "cell_type": "code",
      "metadata": {
        "id": "MMB_wVW4FEvl"
      },
      "source": [
        "conditions = [\n",
        "    data.returns_per_hour > 0.0007,\n",
        "    data.returns_per_hour < -0.0007\n",
        "]\n",
        "\n",
        "choices = [\"up\", \"down\"]\n",
        "\n",
        "data['target'] = np.select(conditions, choices, default='nothing')"
      ],
      "execution_count": null,
      "outputs": []
    },
    {
      "cell_type": "code",
      "metadata": {
        "colab": {
          "base_uri": "https://localhost:8080/"
        },
        "id": "D7wAhhypFEvq",
        "outputId": "1c5a414c-7982-4551-a19c-268bd07d9d44"
      },
      "source": [
        "data.target.value_counts()"
      ],
      "execution_count": null,
      "outputs": [
        {
          "output_type": "execute_result",
          "data": {
            "text/plain": [
              "up         672272\n",
              "down       659455\n",
              "nothing    230470\n",
              "Name: target, dtype: int64"
            ]
          },
          "metadata": {
            "tags": []
          },
          "execution_count": 5
        }
      ]
    },
    {
      "cell_type": "markdown",
      "metadata": {
        "id": "K8gS90ANFEvu"
      },
      "source": [
        "# Working with news"
      ]
    },
    {
      "cell_type": "markdown",
      "metadata": {
        "id": "cn__UL1lFEvv"
      },
      "source": [
        "#### Cleaning parsed news"
      ]
    },
    {
      "cell_type": "code",
      "metadata": {
        "id": "7I7K5zEsFEvw"
      },
      "source": [
        "news = pd.read_csv('drive/MyDrive/data/full_news.csv')\n",
        "\n",
        "news.head()"
      ],
      "execution_count": null,
      "outputs": []
    },
    {
      "cell_type": "code",
      "metadata": {
        "id": "JnUxydk9FEv1"
      },
      "source": [
        "\"\"\"\n",
        "Cleanes the text column from HTML markup, source of news,\n",
        "\\n, \\r, \\t and excess spaces\n",
        "\"\"\"\n",
        "\n",
        "news.text = news.text.apply(\n",
        "    lambda x: re.sub(\n",
        "        '<[^<]+?>|\\n|\\r|\\t|© Reuters.|Investing.com — |  +', '', x\n",
        "    )\n",
        ")\n",
        "\n",
        "\n",
        "'''\n",
        "Extracts date and time\n",
        "'''\n",
        "news.datetime = news.datetime.str.extract(\n",
        "    r'(\\d+\\.\\d+\\.\\d+ \\d+:\\d+)'\n",
        ")"
      ],
      "execution_count": null,
      "outputs": []
    },
    {
      "cell_type": "code",
      "metadata": {
        "id": "4yryF9XnFEv5"
      },
      "source": [
        "news.to_csv(\n",
        "    'drive/MyDrive/data/full_news_cleaned.csv', \n",
        "    index=False\n",
        ")"
      ],
      "execution_count": null,
      "outputs": []
    },
    {
      "cell_type": "markdown",
      "metadata": {
        "id": "N5rAQ4r6FEv9"
      },
      "source": [
        "#### Loading cleaned news"
      ]
    },
    {
      "cell_type": "code",
      "metadata": {
        "id": "GQ3UuZJSFEv-"
      },
      "source": [
        "news = pd.read_csv(\n",
        "    'drive/MyDrive/data/full_news_cleaned.csv',\n",
        "    dayfirst=True,\n",
        "    parse_dates=True,\n",
        "    index_col='datetime'\n",
        ")"
      ],
      "execution_count": null,
      "outputs": []
    },
    {
      "cell_type": "code",
      "metadata": {
        "id": "aGSe1Kq8FEwD"
      },
      "source": [
        "news.head()"
      ],
      "execution_count": null,
      "outputs": []
    },
    {
      "cell_type": "markdown",
      "metadata": {
        "id": "Hx-0hTOTFEwM"
      },
      "source": [
        "# Merging prices and news"
      ]
    },
    {
      "cell_type": "code",
      "metadata": {
        "id": "vPfT9vL0FEwN"
      },
      "source": [
        "merged = data.merge(\n",
        "    news, left_index=True, right_index=True\n",
        ")"
      ],
      "execution_count": null,
      "outputs": []
    },
    {
      "cell_type": "code",
      "metadata": {
        "id": "UQgTp9EbFEwR",
        "outputId": "b0e59d47-cda6-45b0-f26b-3e56ea52d3d4"
      },
      "source": [
        "merged.head()"
      ],
      "execution_count": null,
      "outputs": [
        {
          "output_type": "execute_result",
          "data": {
            "text/html": [
              "<div>\n",
              "<style scoped>\n",
              "    .dataframe tbody tr th:only-of-type {\n",
              "        vertical-align: middle;\n",
              "    }\n",
              "\n",
              "    .dataframe tbody tr th {\n",
              "        vertical-align: top;\n",
              "    }\n",
              "\n",
              "    .dataframe thead th {\n",
              "        text-align: right;\n",
              "    }\n",
              "</style>\n",
              "<table border=\"1\" class=\"dataframe\">\n",
              "  <thead>\n",
              "    <tr style=\"text-align: right;\">\n",
              "      <th></th>\n",
              "      <th>close</th>\n",
              "      <th>returns_per_hour</th>\n",
              "      <th>target</th>\n",
              "      <th>title</th>\n",
              "      <th>text</th>\n",
              "    </tr>\n",
              "    <tr>\n",
              "      <th>datetime</th>\n",
              "      <th></th>\n",
              "      <th></th>\n",
              "      <th></th>\n",
              "      <th></th>\n",
              "      <th></th>\n",
              "    </tr>\n",
              "  </thead>\n",
              "  <tbody>\n",
              "    <tr>\n",
              "      <th>2010-09-06 11:08:00</th>\n",
              "      <td>82.13</td>\n",
              "      <td>-0.006210</td>\n",
              "      <td>down</td>\n",
              "      <td>Азиатские биржи в понедельник ушли в рост</td>\n",
              "      <td>Оптимистичные данные по занятости в США поднял...</td>\n",
              "    </tr>\n",
              "    <tr>\n",
              "      <th>2010-09-07 11:09:00</th>\n",
              "      <td>80.78</td>\n",
              "      <td>-0.002847</td>\n",
              "      <td>down</td>\n",
              "      <td>Азиатские фондовые биржи разделились по динамике</td>\n",
              "      <td>Во вторник азиатские фондовые биржи разделилис...</td>\n",
              "    </tr>\n",
              "    <tr>\n",
              "      <th>2010-09-08 10:39:00</th>\n",
              "      <td>79.68</td>\n",
              "      <td>0.013052</td>\n",
              "      <td>up</td>\n",
              "      <td>Азиатские биржи упали из-за сильной иены</td>\n",
              "      <td>В среду азиатские фондовые биржи упали из-за с...</td>\n",
              "    </tr>\n",
              "    <tr>\n",
              "      <th>2010-09-13 11:58:00</th>\n",
              "      <td>84.58</td>\n",
              "      <td>0.004020</td>\n",
              "      <td>up</td>\n",
              "      <td>Азиатские фондовые рынки растут на фоне оптими...</td>\n",
              "      <td>Азиатские фондовые рынки растут на фоне оптими...</td>\n",
              "    </tr>\n",
              "    <tr>\n",
              "      <th>2010-09-15 11:41:00</th>\n",
              "      <td>84.10</td>\n",
              "      <td>-0.003210</td>\n",
              "      <td>down</td>\n",
              "      <td>Азиатские фондовые биржи разделились по динами...</td>\n",
              "      <td>В среду азиатские фондовые биржи разделились п...</td>\n",
              "    </tr>\n",
              "  </tbody>\n",
              "</table>\n",
              "</div>"
            ],
            "text/plain": [
              "                     close  returns_per_hour target  \\\n",
              "datetime                                              \n",
              "2010-09-06 11:08:00  82.13         -0.006210   down   \n",
              "2010-09-07 11:09:00  80.78         -0.002847   down   \n",
              "2010-09-08 10:39:00  79.68          0.013052     up   \n",
              "2010-09-13 11:58:00  84.58          0.004020     up   \n",
              "2010-09-15 11:41:00  84.10         -0.003210   down   \n",
              "\n",
              "                                                                 title  \\\n",
              "datetime                                                                 \n",
              "2010-09-06 11:08:00          Азиатские биржи в понедельник ушли в рост   \n",
              "2010-09-07 11:09:00   Азиатские фондовые биржи разделились по динамике   \n",
              "2010-09-08 10:39:00           Азиатские биржи упали из-за сильной иены   \n",
              "2010-09-13 11:58:00  Азиатские фондовые рынки растут на фоне оптими...   \n",
              "2010-09-15 11:41:00  Азиатские фондовые биржи разделились по динами...   \n",
              "\n",
              "                                                                  text  \n",
              "datetime                                                                \n",
              "2010-09-06 11:08:00  Оптимистичные данные по занятости в США поднял...  \n",
              "2010-09-07 11:09:00  Во вторник азиатские фондовые биржи разделилис...  \n",
              "2010-09-08 10:39:00  В среду азиатские фондовые биржи упали из-за с...  \n",
              "2010-09-13 11:58:00  Азиатские фондовые рынки растут на фоне оптими...  \n",
              "2010-09-15 11:41:00  В среду азиатские фондовые биржи разделились п...  "
            ]
          },
          "metadata": {
            "tags": []
          },
          "execution_count": 8
        }
      ]
    },
    {
      "cell_type": "code",
      "metadata": {
        "id": "VPHiHlSzFEwV",
        "outputId": "903715ab-1141-41cc-a540-f8b013e89b8d"
      },
      "source": [
        "print('Merged data shape: ', merged.shape)\n",
        "print('Num of \"ups\": ', len(merged[merged.target == 'up']))\n",
        "print('Num of \"downs\": ', len(merged[merged.target == 'down']))\n",
        "print('Num of \"nothings\": ', len(merged[merged.target == 'nothing']))"
      ],
      "execution_count": null,
      "outputs": [
        {
          "output_type": "stream",
          "text": [
            "Merged data shape:  (52020, 5)\n",
            "Num of \"ups\":  21960\n",
            "Num of \"downs\":  22061\n",
            "Num of \"nothings\":  7999\n"
          ],
          "name": "stdout"
        }
      ]
    },
    {
      "cell_type": "code",
      "metadata": {
        "id": "MTxHR6Np3j46"
      },
      "source": [
        "merged['target'] = merged.target.replace(label_dict)\n",
        "merged.head(1)"
      ],
      "execution_count": null,
      "outputs": []
    },
    {
      "cell_type": "code",
      "metadata": {
        "id": "347U5bpOFEwZ"
      },
      "source": [
        "merged.to_csv(\n",
        "    'drive/MyDrive/data/merged.csv'\n",
        ")"
      ],
      "execution_count": null,
      "outputs": []
    },
    {
      "cell_type": "markdown",
      "metadata": {
        "id": "INP0GkSXhKXv"
      },
      "source": [
        "#Text summarization"
      ]
    },
    {
      "cell_type": "code",
      "metadata": {
        "id": "6nIzRpImhbJ5"
      },
      "source": [
        "pip install bert-extractive-summarizer"
      ],
      "execution_count": null,
      "outputs": []
    },
    {
      "cell_type": "code",
      "metadata": {
        "colab": {
          "base_uri": "https://localhost:8080/",
          "height": 164,
          "referenced_widgets": [
            "6c03d58575114e62b2070b9616754e85",
            "cda4b521575042d1bc75736fc3051728",
            "df3a9fe3cbfe4c29b12d2a8cc14f6950",
            "79e8b365bbb740b18e1f63444802cf6b",
            "fbfd1bbef9c841e9bca1ef17c26d80e7",
            "385b44257aa144cfb3d3cc2915ecd975",
            "3f183ad6402c46be9c0d5cfae2ffe4a5",
            "e3bfbfffea2b418392bbe97199845592",
            "94bb7d0e38a5414db3e0b8249e385752",
            "16b93fd3f2e640da9806e61bd6c52fd1",
            "b1840adf0eaa464cbd1e12639d7e2758",
            "4ebe4750a7794f429eaf63e69de41422",
            "544f9acc8a9442809998e92754d51fea",
            "f137e8bdf90f4d74bba1efedcdc4468b",
            "fb80e58c280c4c1e9dc4665b22b88f08",
            "4c614b7db1b24f839f0e0209a917d767",
            "ebb6803bf2214497bb8be04f828cd63d",
            "204d52084a8f4becb75d252f50c35d54",
            "d3ae3aa166da431eb6ffd202e71451cf",
            "fb4d3509af304605942dd9b76a46b3b9",
            "63443c6aa75243ccb2c7c11fe62de111",
            "7962761b51c84612b811deac11338263",
            "f4ec922ed2c54a499243dd923b58d13a",
            "9a5a1b8f52bb4ca8a66964b8fe962307"
          ]
        },
        "id": "HhkeGBEehqTN",
        "outputId": "c2171057-190f-4b75-ca03-97527f91236c"
      },
      "source": [
        "from summarizer import Summarizer\n",
        "\n",
        "model = Summarizer()"
      ],
      "execution_count": 11,
      "outputs": [
        {
          "output_type": "display_data",
          "data": {
            "application/vnd.jupyter.widget-view+json": {
              "model_id": "6c03d58575114e62b2070b9616754e85",
              "version_minor": 0,
              "version_major": 2
            },
            "text/plain": [
              "HBox(children=(FloatProgress(value=0.0, description='Downloading', max=434.0, style=ProgressStyle(description_…"
            ]
          },
          "metadata": {
            "tags": []
          }
        },
        {
          "output_type": "stream",
          "text": [
            "\n"
          ],
          "name": "stdout"
        },
        {
          "output_type": "display_data",
          "data": {
            "application/vnd.jupyter.widget-view+json": {
              "model_id": "94bb7d0e38a5414db3e0b8249e385752",
              "version_minor": 0,
              "version_major": 2
            },
            "text/plain": [
              "HBox(children=(FloatProgress(value=0.0, description='Downloading', max=1344997306.0, style=ProgressStyle(descr…"
            ]
          },
          "metadata": {
            "tags": []
          }
        },
        {
          "output_type": "stream",
          "text": [
            "\n"
          ],
          "name": "stdout"
        },
        {
          "output_type": "display_data",
          "data": {
            "application/vnd.jupyter.widget-view+json": {
              "model_id": "ebb6803bf2214497bb8be04f828cd63d",
              "version_minor": 0,
              "version_major": 2
            },
            "text/plain": [
              "HBox(children=(FloatProgress(value=0.0, description='Downloading', max=231508.0, style=ProgressStyle(descripti…"
            ]
          },
          "metadata": {
            "tags": []
          }
        },
        {
          "output_type": "stream",
          "text": [
            "\n"
          ],
          "name": "stdout"
        }
      ]
    },
    {
      "cell_type": "code",
      "metadata": {
        "colab": {
          "base_uri": "https://localhost:8080/"
        },
        "id": "sEKRWNWgi9Kw",
        "outputId": "9a12b1ee-d6dc-4425-f16c-7ac7c211a465"
      },
      "source": [
        "merged.text = merged.text.apply(lambda x: model(x, num_sentences=25))"
      ],
      "execution_count": 22,
      "outputs": [
        {
          "output_type": "stream",
          "text": [
            "/usr/local/lib/python3.6/dist-packages/summarizer/cluster_features.py:106: ConvergenceWarning: Number of distinct clusters (19) found smaller than n_clusters (21). Possibly due to duplicate points in X.\n",
            "  model = self.__get_model(k).fit(self.features)\n",
            "/usr/local/lib/python3.6/dist-packages/summarizer/cluster_features.py:106: ConvergenceWarning: Number of distinct clusters (16) found smaller than n_clusters (17). Possibly due to duplicate points in X.\n",
            "  model = self.__get_model(k).fit(self.features)\n",
            "/usr/local/lib/python3.6/dist-packages/summarizer/cluster_features.py:106: ConvergenceWarning: Number of distinct clusters (16) found smaller than n_clusters (17). Possibly due to duplicate points in X.\n",
            "  model = self.__get_model(k).fit(self.features)\n",
            "/usr/local/lib/python3.6/dist-packages/summarizer/cluster_features.py:106: ConvergenceWarning: Number of distinct clusters (14) found smaller than n_clusters (17). Possibly due to duplicate points in X.\n",
            "  model = self.__get_model(k).fit(self.features)\n",
            "/usr/local/lib/python3.6/dist-packages/summarizer/cluster_features.py:106: ConvergenceWarning: Number of distinct clusters (14) found smaller than n_clusters (15). Possibly due to duplicate points in X.\n",
            "  model = self.__get_model(k).fit(self.features)\n",
            "/usr/local/lib/python3.6/dist-packages/summarizer/cluster_features.py:106: ConvergenceWarning: Number of distinct clusters (10) found smaller than n_clusters (11). Possibly due to duplicate points in X.\n",
            "  model = self.__get_model(k).fit(self.features)\n",
            "/usr/local/lib/python3.6/dist-packages/summarizer/cluster_features.py:106: ConvergenceWarning: Number of distinct clusters (21) found smaller than n_clusters (24). Possibly due to duplicate points in X.\n",
            "  model = self.__get_model(k).fit(self.features)\n",
            "/usr/local/lib/python3.6/dist-packages/summarizer/cluster_features.py:106: ConvergenceWarning: Number of distinct clusters (10) found smaller than n_clusters (12). Possibly due to duplicate points in X.\n",
            "  model = self.__get_model(k).fit(self.features)\n",
            "/usr/local/lib/python3.6/dist-packages/summarizer/cluster_features.py:106: ConvergenceWarning: Number of distinct clusters (21) found smaller than n_clusters (23). Possibly due to duplicate points in X.\n",
            "  model = self.__get_model(k).fit(self.features)\n",
            "/usr/local/lib/python3.6/dist-packages/summarizer/cluster_features.py:106: ConvergenceWarning: Number of distinct clusters (22) found smaller than n_clusters (25). Possibly due to duplicate points in X.\n",
            "  model = self.__get_model(k).fit(self.features)\n",
            "/usr/local/lib/python3.6/dist-packages/summarizer/cluster_features.py:106: ConvergenceWarning: Number of distinct clusters (22) found smaller than n_clusters (24). Possibly due to duplicate points in X.\n",
            "  model = self.__get_model(k).fit(self.features)\n",
            "/usr/local/lib/python3.6/dist-packages/summarizer/cluster_features.py:106: ConvergenceWarning: Number of distinct clusters (16) found smaller than n_clusters (17). Possibly due to duplicate points in X.\n",
            "  model = self.__get_model(k).fit(self.features)\n",
            "/usr/local/lib/python3.6/dist-packages/summarizer/cluster_features.py:106: ConvergenceWarning: Number of distinct clusters (24) found smaller than n_clusters (25). Possibly due to duplicate points in X.\n",
            "  model = self.__get_model(k).fit(self.features)\n",
            "/usr/local/lib/python3.6/dist-packages/summarizer/cluster_features.py:106: ConvergenceWarning: Number of distinct clusters (16) found smaller than n_clusters (19). Possibly due to duplicate points in X.\n",
            "  model = self.__get_model(k).fit(self.features)\n",
            "/usr/local/lib/python3.6/dist-packages/summarizer/cluster_features.py:106: ConvergenceWarning: Number of distinct clusters (21) found smaller than n_clusters (23). Possibly due to duplicate points in X.\n",
            "  model = self.__get_model(k).fit(self.features)\n",
            "/usr/local/lib/python3.6/dist-packages/summarizer/cluster_features.py:106: ConvergenceWarning: Number of distinct clusters (13) found smaller than n_clusters (14). Possibly due to duplicate points in X.\n",
            "  model = self.__get_model(k).fit(self.features)\n",
            "/usr/local/lib/python3.6/dist-packages/summarizer/cluster_features.py:106: ConvergenceWarning: Number of distinct clusters (17) found smaller than n_clusters (19). Possibly due to duplicate points in X.\n",
            "  model = self.__get_model(k).fit(self.features)\n",
            "/usr/local/lib/python3.6/dist-packages/summarizer/cluster_features.py:106: ConvergenceWarning: Number of distinct clusters (7) found smaller than n_clusters (8). Possibly due to duplicate points in X.\n",
            "  model = self.__get_model(k).fit(self.features)\n",
            "/usr/local/lib/python3.6/dist-packages/summarizer/cluster_features.py:106: ConvergenceWarning: Number of distinct clusters (21) found smaller than n_clusters (25). Possibly due to duplicate points in X.\n",
            "  model = self.__get_model(k).fit(self.features)\n",
            "/usr/local/lib/python3.6/dist-packages/summarizer/cluster_features.py:106: ConvergenceWarning: Number of distinct clusters (19) found smaller than n_clusters (22). Possibly due to duplicate points in X.\n",
            "  model = self.__get_model(k).fit(self.features)\n"
          ],
          "name": "stderr"
        }
      ]
    },
    {
      "cell_type": "code",
      "metadata": {
        "id": "lkWq6szAi9CV"
      },
      "source": [
        "merged.to_csv('drive/MyDrive/data/summarized_texts.csv')"
      ],
      "execution_count": 23,
      "outputs": []
    },
    {
      "cell_type": "code",
      "metadata": {
        "colab": {
          "base_uri": "https://localhost:8080/"
        },
        "id": "6A53nk6bi7-I",
        "outputId": "c87e5db5-1585-4cb6-d5d9-23834fabb5e3"
      },
      "source": [
        "merged.text.str.split().apply(lambda x: len(x)).max()"
      ],
      "execution_count": 24,
      "outputs": [
        {
          "output_type": "execute_result",
          "data": {
            "text/plain": [
              "851"
            ]
          },
          "metadata": {
            "tags": []
          },
          "execution_count": 24
        }
      ]
    },
    {
      "cell_type": "markdown",
      "metadata": {
        "id": "NCnzeUfaWVYn"
      },
      "source": [
        "# Splitting the merged data on train and test"
      ]
    },
    {
      "cell_type": "code",
      "metadata": {
        "id": "jSC5exhfWVYn",
        "colab": {
          "base_uri": "https://localhost:8080/"
        },
        "outputId": "9d61dcf5-80f4-47fe-fd86-eb7ac492137b"
      },
      "source": [
        "X_train, X_val, y_train, y_val = train_test_split(\n",
        "    merged.index.values, \n",
        "    merged.target.values, \n",
        "    test_size=0.1, \n",
        "    stratify=merged.target.values,\n",
        "    random_state=1\n",
        ")\n",
        "\n",
        "for key, value in label_dict.items():\n",
        "  print(\n",
        "      f\"Ratio of '{key}s' in val and train\",\n",
        "      len(y_val[y_val == value]) / len(y_train[y_train == value])\n",
        "  )"
      ],
      "execution_count": 25,
      "outputs": [
        {
          "output_type": "stream",
          "text": [
            "Ratio of 'ups' in val and train 0.1111111111111111\n",
            "Ratio of 'downs' in val and train 0.11110551498363133\n",
            "Ratio of 'nothings' in val and train 0.11112654535352132\n"
          ],
          "name": "stdout"
        }
      ]
    },
    {
      "cell_type": "code",
      "metadata": {
        "id": "WOSgXkhOWVYn"
      },
      "source": [
        "np.savetxt('drive/MyDrive/data/summarized_text/X_train.txt', X_train)\n",
        "np.savetxt('drive/MyDrive/data/summarized_text/X_val.txt', X_val)\n",
        "np.savetxt('drive/MyDrive/data/summarized_text/y_train.txt', y_train)\n",
        "np.savetxt('drive/MyDrive/data/summarized_text/y_val.txt', y_val)"
      ],
      "execution_count": 26,
      "outputs": []
    },
    {
      "cell_type": "code",
      "metadata": {
        "id": "uHVvSUIRWVYn"
      },
      "source": [
        "X_train1 = np.loadtxt('drive/MyDrive/data/summarized_text/X_train.txt')\n",
        "X_val1 = np.loadtxt('drive/MyDrive/data/summarized_text/X_val.txt')\n",
        "y_train1 = np.loadtxt('drive/MyDrive/data/summarized_text/y_train.txt')\n",
        "y_val1 = np.loadtxt('drive/MyDrive/data/summarized_text/y_val.txt')"
      ],
      "execution_count": 27,
      "outputs": []
    },
    {
      "cell_type": "code",
      "metadata": {
        "id": "UKy4rKv4WVYo",
        "colab": {
          "base_uri": "https://localhost:8080/"
        },
        "outputId": "dcf3e79b-1678-421c-a992-eb2de923e3ea"
      },
      "source": [
        "print(all(X_train == X_train1))\n",
        "print(all(X_val == X_val1))\n",
        "print(all(y_train == y_train1))\n",
        "print(all(y_val == y_val1))"
      ],
      "execution_count": 28,
      "outputs": [
        {
          "output_type": "stream",
          "text": [
            "True\n",
            "True\n",
            "True\n",
            "True\n"
          ],
          "name": "stdout"
        }
      ]
    },
    {
      "cell_type": "code",
      "metadata": {
        "colab": {
          "base_uri": "https://localhost:8080/"
        },
        "id": "ZmpQlWJkjXeM",
        "outputId": "94309c52-9a08-4eb8-9720-7a549ec37dc0"
      },
      "source": [
        "print(all(merged.loc[X_train1, 'target'].values == y_train1))\n",
        "print(all(merged.loc[X_val1, 'target'].values == y_val1))"
      ],
      "execution_count": 29,
      "outputs": [
        {
          "output_type": "stream",
          "text": [
            "True\n",
            "True\n"
          ],
          "name": "stdout"
        }
      ]
    },
    {
      "cell_type": "markdown",
      "metadata": {
        "id": "H5hbKYfFNQv4"
      },
      "source": [
        "#Preparing the data for a model"
      ]
    },
    {
      "cell_type": "code",
      "metadata": {
        "id": "9SzPmMpTNaNt",
        "colab": {
          "base_uri": "https://localhost:8080/"
        },
        "outputId": "579ad888-c3d7-4141-b294-6c1487fb4368"
      },
      "source": [
        "merged.target.value_counts()"
      ],
      "execution_count": 30,
      "outputs": [
        {
          "output_type": "execute_result",
          "data": {
            "text/plain": [
              "1    22061\n",
              "0    21960\n",
              "2     7999\n",
              "Name: target, dtype: int64"
            ]
          },
          "metadata": {
            "tags": []
          },
          "execution_count": 30
        }
      ]
    },
    {
      "cell_type": "code",
      "metadata": {
        "id": "_r8szHEMNZzm"
      },
      "source": [
        "X_train = np.loadtxt('drive/MyDrive/data/summarized_text/X_train.txt')\n",
        "X_val = np.loadtxt('drive/MyDrive/data/summarized_text/X_val.txt')\n",
        "y_train = np.loadtxt('drive/MyDrive/data/summarized_text/y_train.txt')\n",
        "y_val = np.loadtxt('drive/MyDrive/data/summarized_text/y_val.txt')"
      ],
      "execution_count": 31,
      "outputs": []
    },
    {
      "cell_type": "code",
      "metadata": {
        "id": "DPzRiIn-NjQ3"
      },
      "source": [
        "merged['data_type'] = ['not_set'] * merged.shape[0]\n",
        "\n",
        "merged.loc[X_train, 'data_type'] = 'train'\n",
        "merged.loc[X_val, 'data_type'] = 'val'"
      ],
      "execution_count": 32,
      "outputs": []
    },
    {
      "cell_type": "code",
      "metadata": {
        "id": "SWY3T1I_NjIB"
      },
      "source": [
        "tokenizer = BertTokenizer.from_pretrained(\n",
        "    'bert-base-multilingual-cased', \n",
        "    do_lower_case=True\n",
        ")\n",
        "                                          \n",
        "encoded_data_train = tokenizer.batch_encode_plus(\n",
        "    merged.loc[X_train, 'text'].values, \n",
        "    add_special_tokens=True, \n",
        "    return_attention_mask=True, \n",
        "    padding='max_length', \n",
        "    max_length=450, \n",
        "    return_tensors='pt',\n",
        "    truncation=True\n",
        ")\n",
        "\n",
        "encoded_data_val = tokenizer.batch_encode_plus(\n",
        "    merged.loc[X_val, 'text'].values, \n",
        "    add_special_tokens=True, \n",
        "    return_attention_mask=True, \n",
        "    padding='max_length', \n",
        "    max_length=450, \n",
        "    return_tensors='pt',\n",
        "    truncation=True\n",
        ")"
      ],
      "execution_count": 52,
      "outputs": []
    },
    {
      "cell_type": "code",
      "metadata": {
        "id": "G_d3gyO7NjA9"
      },
      "source": [
        "with open(\n",
        "    'drive/MyDrive/data/summarized_text/encoded_data_train.pickle', 'wb'\n",
        ") as f:\n",
        "  pickle.dump(encoded_data_train, f)\n",
        "\n",
        "with open(\n",
        "    'drive/MyDrive/data/summarized_text/encoded_data_val.pickle', 'wb'\n",
        ") as f:\n",
        "  pickle.dump(encoded_data_val, f)"
      ],
      "execution_count": 53,
      "outputs": []
    },
    {
      "cell_type": "markdown",
      "metadata": {
        "id": "AjXOhHAaFEwd"
      },
      "source": [
        "# Building the model"
      ]
    },
    {
      "cell_type": "code",
      "metadata": {
        "id": "zIBawJ5bFEwu"
      },
      "source": [
        "with open(\n",
        "    'drive/MyDrive/data/summarized_text/encoded_data_train.pickle', 'rb'\n",
        ") as f:\n",
        "  encoded_data_train = pickle.load(f)\n",
        "\n",
        "with open(\n",
        "    'drive/MyDrive/data/summarized_text/encoded_data_val.pickle', 'rb'\n",
        ") as f:\n",
        "  encoded_data_val = pickle.load(f)"
      ],
      "execution_count": 9,
      "outputs": []
    },
    {
      "cell_type": "code",
      "metadata": {
        "id": "Um-0mZmfYST7"
      },
      "source": [
        "y_train = np.loadtxt('drive/MyDrive/data/summarized_text/y_train.txt')\n",
        "y_val = np.loadtxt('drive/MyDrive/data/summarized_text/y_val.txt')"
      ],
      "execution_count": 10,
      "outputs": []
    },
    {
      "cell_type": "code",
      "metadata": {
        "id": "K5JtXorwFEw6"
      },
      "source": [
        "input_ids_train = encoded_data_train['input_ids']\n",
        "attention_masks_train = encoded_data_train['attention_mask']\n",
        "labels_train = torch.tensor(y_train, dtype=torch.long)\n",
        "\n",
        "input_ids_val = encoded_data_val['input_ids']\n",
        "attention_masks_val = encoded_data_val['attention_mask']\n",
        "labels_val = torch.tensor(y_val, dtype=torch.long)"
      ],
      "execution_count": 11,
      "outputs": []
    },
    {
      "cell_type": "code",
      "metadata": {
        "id": "go3bChOqVnnl"
      },
      "source": [
        "dataset_train = TensorDataset(\n",
        "    input_ids_train, attention_masks_train, labels_train\n",
        ")\n",
        "dataset_val = TensorDataset(\n",
        "    input_ids_val, attention_masks_val, labels_val\n",
        ")"
      ],
      "execution_count": 12,
      "outputs": []
    },
    {
      "cell_type": "code",
      "metadata": {
        "colab": {
          "base_uri": "https://localhost:8080/"
        },
        "id": "s-nhm29CfEsf",
        "outputId": "ee707869-a7bf-4460-9371-c96a90cace67"
      },
      "source": [
        "device = torch.device(\n",
        "    \"cuda\" if torch.cuda.is_available() else \"cpu\"\n",
        ")\n",
        "device"
      ],
      "execution_count": 13,
      "outputs": [
        {
          "output_type": "execute_result",
          "data": {
            "text/plain": [
              "device(type='cuda')"
            ]
          },
          "metadata": {
            "tags": []
          },
          "execution_count": 13
        }
      ]
    },
    {
      "cell_type": "code",
      "metadata": {
        "colab": {
          "base_uri": "https://localhost:8080/",
          "height": 158
        },
        "id": "GZQRpiuoVnmS",
        "outputId": "83c855a5-320e-4705-cc4c-1b75b113c8df"
      },
      "source": [
        "#ЗАМЕНИЛ МОДЕЛЬ!\n",
        "\n",
        "model = BertForSequenceClassification.from_pretrained(\n",
        "    \"bert-base-multilingual-cased\",\n",
        "    num_labels=len(label_dict),\n",
        "    output_attentions=False,\n",
        "    output_hidden_states=False\n",
        ")\n",
        "\n",
        "model.to(device)\n",
        "\n",
        "'''model.load_state_dict(\n",
        "    torch.load('drive/MyDrive/models/finetuned_BERT_epoch_3.model', \n",
        "    map_location=torch.device('cpu'))\n",
        ")'''"
      ],
      "execution_count": 14,
      "outputs": [
        {
          "output_type": "stream",
          "text": [
            "Some weights of the model checkpoint at bert-base-multilingual-cased were not used when initializing BertForSequenceClassification: ['cls.predictions.bias', 'cls.predictions.transform.dense.weight', 'cls.predictions.transform.dense.bias', 'cls.predictions.decoder.weight', 'cls.seq_relationship.weight', 'cls.seq_relationship.bias', 'cls.predictions.transform.LayerNorm.weight', 'cls.predictions.transform.LayerNorm.bias']\n",
            "- This IS expected if you are initializing BertForSequenceClassification from the checkpoint of a model trained on another task or with another architecture (e.g. initializing a BertForSequenceClassification model from a BertForPreTraining model).\n",
            "- This IS NOT expected if you are initializing BertForSequenceClassification from the checkpoint of a model that you expect to be exactly identical (initializing a BertForSequenceClassification model from a BertForSequenceClassification model).\n",
            "Some weights of BertForSequenceClassification were not initialized from the model checkpoint at bert-base-multilingual-cased and are newly initialized: ['classifier.weight', 'classifier.bias']\n",
            "You should probably TRAIN this model on a down-stream task to be able to use it for predictions and inference.\n"
          ],
          "name": "stderr"
        },
        {
          "output_type": "execute_result",
          "data": {
            "application/vnd.google.colaboratory.intrinsic+json": {
              "type": "string"
            },
            "text/plain": [
              "\"model.load_state_dict(\\n    torch.load('drive/MyDrive/models/finetuned_BERT_epoch_3.model', \\n    map_location=torch.device('cpu'))\\n)\""
            ]
          },
          "metadata": {
            "tags": []
          },
          "execution_count": 14
        }
      ]
    },
    {
      "cell_type": "code",
      "metadata": {
        "id": "M9f9s7UVVniA"
      },
      "source": [
        "batch_size = 4\n",
        "\n",
        "dataloader_train = DataLoader(\n",
        "    dataset_train, \n",
        "    sampler=RandomSampler(dataset_train), \n",
        "    batch_size=batch_size\n",
        ")\n",
        "\n",
        "dataloader_validation = DataLoader(\n",
        "    dataset_val, \n",
        "    sampler=SequentialSampler(dataset_val), \n",
        "    batch_size=batch_size\n",
        ")"
      ],
      "execution_count": 24,
      "outputs": []
    },
    {
      "cell_type": "code",
      "metadata": {
        "id": "sidOKBxJVnfi"
      },
      "source": [
        "optimizer = AdamW(\n",
        "    model.parameters(),\n",
        "    lr=1e-5, \n",
        "    eps=1e-8\n",
        ")\n",
        "                  \n",
        "epochs = 100\n",
        "\n",
        "scheduler = get_linear_schedule_with_warmup(\n",
        "    optimizer, \n",
        "    num_warmup_steps=0,\n",
        "    num_training_steps=len(dataloader_train)*epochs\n",
        ")"
      ],
      "execution_count": 25,
      "outputs": []
    },
    {
      "cell_type": "markdown",
      "metadata": {
        "id": "bfJaKY7yMK_q"
      },
      "source": [
        "#Training loop\n"
      ]
    },
    {
      "cell_type": "code",
      "metadata": {
        "colab": {
          "base_uri": "https://localhost:8080/",
          "height": 81,
          "referenced_widgets": [
            "2c75cee46e5d4ee8b4629a1918b7f36a",
            "03e1d0a88b2447ccbbfb7d29b1a90be0",
            "ea06ee607f8d47068dc969216b63c9c6",
            "dac65a7c90eb4ee586138e0b1373e0ce",
            "3a230688f0d7409793c2c921d1c0f56a",
            "8c0668f1935e40cb816f7d704465c013",
            "c9dd2149216247968536b208e8d24122",
            "7894fca75a474495856db2b973533633",
            "b492d49f9ca543f49467ca5560fd1726",
            "2266906944df483188e64dafd73255fb",
            "297e7c0361e54ff58487042ba5bfea8a",
            "a2354e6d10eb44298680f654ed7c7d25",
            "10f44c0ffbba4a3e928475f7cee8df83",
            "c22854403a0a4ea78b2dca0580c800de",
            "6f8708aa942b44d88ee98c3ddf5db642",
            "a3cf22cd329b498eb4ca0de1b5b2f1f2"
          ]
        },
        "id": "oD0sIEKDXc6M",
        "outputId": "c4aa26fc-2480-4bcc-e499-909be714c0d4"
      },
      "source": [
        "for epoch in tqdm(range(1, epochs+1)):\n",
        "    \n",
        "    model.train()\n",
        "    \n",
        "    loss_train_total = 0\n",
        "\n",
        "    progress_bar = tqdm(\n",
        "        dataloader_train, \n",
        "        desc='Epoch {:1d}'.format(epoch), \n",
        "        leave=False, \n",
        "        disable=False\n",
        "    )\n",
        "    for batch in progress_bar:\n",
        "\n",
        "        model.zero_grad()\n",
        "        \n",
        "        batch = tuple(b.to(device) for b in batch)\n",
        "        \n",
        "        inputs = {'input_ids':      batch[0],\n",
        "                  'attention_mask': batch[1],\n",
        "                  'labels':         batch[2],\n",
        "                 }       \n",
        "\n",
        "        outputs = model(**inputs)\n",
        "        \n",
        "        loss = outputs[0]\n",
        "        loss_train_total += loss.item()\n",
        "        loss.backward()\n",
        "\n",
        "        torch.nn.utils.clip_grad_norm_(model.parameters(), 1.0)\n",
        "\n",
        "        optimizer.step()\n",
        "        scheduler.step()\n",
        "        \n",
        "        progress_bar.set_postfix(\n",
        "            {'training_loss': '{:.3f}'.format(loss.item()/len(batch))}\n",
        "        )\n",
        "         \n",
        "        \n",
        "    torch.save(\n",
        "        model.state_dict(), \n",
        "        f'drive/MyDrive/models/finetuned_BERT_epoch_{epoch}.model'\n",
        "    )\n",
        "        \n",
        "    tqdm.write(f'\\nEpoch {epoch}')\n",
        "    \n",
        "    loss_train_avg = loss_train_total/len(dataloader_train)            \n",
        "    tqdm.write(f'Training loss: {loss_train_avg}')\n",
        "    \n",
        "    val_loss, predictions, true_vals = evaluate(dataloader_validation)\n",
        "    val_f1 = f1_score_func(predictions, true_vals)\n",
        "    tqdm.write(f'Validation loss: {val_loss}')\n",
        "    tqdm.write(f'F1 Score (Weighted): {val_f1}')"
      ],
      "execution_count": null,
      "outputs": [
        {
          "output_type": "display_data",
          "data": {
            "application/vnd.jupyter.widget-view+json": {
              "model_id": "2c75cee46e5d4ee8b4629a1918b7f36a",
              "version_minor": 0,
              "version_major": 2
            },
            "text/plain": [
              "HBox(children=(FloatProgress(value=0.0), HTML(value='')))"
            ]
          },
          "metadata": {
            "tags": []
          }
        },
        {
          "output_type": "display_data",
          "data": {
            "application/vnd.jupyter.widget-view+json": {
              "model_id": "b492d49f9ca543f49467ca5560fd1726",
              "version_minor": 0,
              "version_major": 2
            },
            "text/plain": [
              "HBox(children=(FloatProgress(value=0.0, description='Epoch 1', max=11705.0, style=ProgressStyle(description_wi…"
            ]
          },
          "metadata": {
            "tags": []
          }
        }
      ]
    }
  ]
}